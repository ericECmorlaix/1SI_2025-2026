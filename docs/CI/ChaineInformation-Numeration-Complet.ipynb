{
 "cells": [
  {
   "cell_type": "markdown",
   "metadata": {
    "slideshow": {
     "slide_type": "slide"
    }
   },
   "source": [
    "# Chaine d'information d'un système"
   ]
  },
  {
   "cell_type": "markdown",
   "metadata": {},
   "source": [
    "## Analyse fonctionnelle et structurelle\n",
    "\n",
    "<img src=\"https://ericecmorlaix.github.io/img/AnalyseSystemique-GlobaleInformation.svg\" alt=\"Focus sur la chaine d'information\">\n",
    "\n",
    "Dans un système pluritechnique, la chaine d'information permet :\n",
    "- d'**acquérir** des informations en provenance de lui même, d'autres systèmes connectés, et de son utilisateur par l'intermédiaire d'une interface homme/machine (IHM) ;\n",
    "- de les **traiter** pour contrôler l'action à réaliser sur la matière d'oeuvre ;\n",
    "- et de **communiquer** l'état du système à l'utilisateur ou à d'autres systèmes connectés.\n",
    "\n",
    "### Exemple du Stepper :\n",
    "\n",
    "<img src=\"https://ericecmorlaix.github.io/img/Stepper-Situation.svg\" alt=\"Mise en situation du mini-stepper\">\n",
    "\n",
    "\n",
    "La chaine d'information du mini-stepper permet :\n",
    "- d'**acquérir** l'information du mouvement d'un step au passage de la pédale devant le capteur ILS (Interrupteur à Lame Souple) ;\n",
    "- de **traiter** cette information en comptant la durée de l'exercice et le nombre de steps et en calculant le nombre de calories dépensées ;\n",
    "- de **communiquer** ces informations à l'utilisateur en les affichant sur l'écran LCD.\n",
    "\n",
    "<img src=\"https://ericecmorlaix.github.io/img/Stepper-Information-Complet.svg\" alt=\"Mise en situation du mini-stepper\">\n",
    "\n",
    "<!--  \n",
    "Liens drawio :\n",
    "- https://www.draw.io/#HericECmorlaix%2FericECmorlaix.github.io%2Fmaster%2Fimg%2FStepper.drawio\n",
    "- https://www.draw.io/#Wb!jfwFiHFql0e01yQbhbs1Zm3rpKjqSIpBvLcAukM-Fw-KH97Xee2GTKpgI86tSAPs%2F01DRVMOGWDVRKYO6WJEZAZIOWM2GOOVWAA\n",
    "\n",
    "\n",
    "<img src=\"https://ericecmorlaix.github.io/img/Stepper-Information.svg\" alt=\"Mise en situation du mini-stepper\">\n",
    "-->"
   ]
  },
  {
   "cell_type": "markdown",
   "metadata": {},
   "source": [
    "## La fonction \"Acquérir\" :\n",
    "\n",
    "- L'acquisition de grandeurs physiques se fait par l'intermédiaires de **capteurs**. Un capteur est un composant qui convertit une grandeur physique en un signal exploitable par l'unité de traitement*.\n",
    "> **Exemples de capteurs de grandeur physique :**\n",
    ">\n",
    ">    - sur le stepper : *L'ILS détecte la présence d'un aimant fixé sur la pédale droite* ;\n",
    ">    - autres : *dans la bouilloire électrique précédemment étudiée, il y a un capteur qui mesure la température de l'eau*.\n",
    "\n",
    "\n",
    "\n",
    "- L'acquisition des consignes de l'utilisateur se fait par l'intermédiaire d'une **interface homme/machine** ([IHM](https://www.lebigdata.fr/interface-homme-machine-tout-savoir-sur-les-ihm)) qui intègre des composants capables de convertir des informations humaines en un signal exploitable par l'unité de traitement*.\n",
    "> **Exemples de composants d'IHM :**\n",
    ">   - sur le stepper : *le bouton poussoir* ;\n",
    ">    - autres : *il y a deux potentiomètres sous le joystick d'une manette de jeu*.\n",
    "    \n",
    "* **Un signal exploitable par l'unité de traitement** : très souvent ce signal sera de nature électrique, rendu compatible avec le microcontroleur utilisé pour le traitement de l'information..."
   ]
  },
  {
   "cell_type": "markdown",
   "metadata": {},
   "source": [
    "## Typologie des signaux logique, analogique et numérique :\n",
    "\n",
    "<img src=\"https://ericecmorlaix.github.io/1SI_2025-2026/CI/logique-analogique-numerique.jpg\" alt=\"Typologie des signaux logique, analogique et numérique\">\n",
    "\n",
    "|**Logique** &ensp;&ensp;&ensp;&ensp;|&ensp;&ensp;&ensp;&ensp;**Analogique**&ensp;&ensp;&ensp;&ensp;|&ensp;&ensp;&ensp;&ensp;**Numérique**|\n",
    "|:-:|:-:|:-:|\n",
    "\n",
    "### Ressource vidéo :"
   ]
  },
  {
   "cell_type": "code",
   "execution_count": 1,
   "metadata": {
    "trusted": false
   },
   "outputs": [
    {
     "data": {
      "text/html": [
       "\n",
       "<center>\n",
       "<iframe width=\"560\" height=\"315\" src=\"https://www.youtube-nocookie.com/embed/2PckTQZTdBw?start=16\" frameborder=\"0\" allow=\"accelerometer; autoplay; encrypted-media; gyroscope; picture-in-picture\" allowfullscreen></iframe>\n",
       "</center>\n"
      ],
      "text/plain": [
       "<IPython.core.display.HTML object>"
      ]
     },
     "execution_count": 1,
     "metadata": {},
     "output_type": "execute_result"
    }
   ],
   "source": [
    "from IPython.display import HTML\n",
    "\n",
    "HTML('''\n",
    "<center>\n",
    "<iframe width=\"560\" height=\"315\" src=\"https://www.youtube-nocookie.com/embed/2PckTQZTdBw?start=16\" frameborder=\"0\" allow=\"accelerometer; autoplay; encrypted-media; gyroscope; picture-in-picture\" allowfullscreen></iframe>\n",
    "</center>\n",
    "''')"
   ]
  },
  {
   "cell_type": "markdown",
   "metadata": {},
   "source": [
    "## Numération et codage de l’information, changement de base\n",
    "\n",
    "### Problématique :\n",
    "\n",
    "Dans notre exemple du stepper, l'information fournie à l'entrée de la chaine par le capteur [ILS](https://fr.wikipedia.org/wiki/Interrupteur_reed) est de type logique (Tout ou Rien [TOR](https://fr.wikipedia.org/wiki/Tout_ou_rien), $0$ ou $1$) or le système de numération adapté pour traiter ce genre d'information est le binaire (à base $2$).\n",
    "\n",
    "Par conntre, en sortie, l'information à afficher est destinée à l'utilisateur qui lui compte avec un système de numération décimal (à base $10$).\n",
    "\n",
    "Plus généralement, on le reverra en détail plus tard, lorsque la grandeur physique à acquérir sera de type analogique, il nous faudra la numériser pour la traiter avec un microcontrôleur.\n",
    "\n",
    "On peut donc d'ores et déjà affirmer que les données qui circuleront dans la chaine d'information seront, à un endroit ou à un autre, numériques (ou pour le moins logique) même si elles représentent autre chose.\n",
    "\n",
    "Aussi, pour bien comprendre le codage de l'information qui circulent nous devons être capable de convertir une donnée numérique d'un système de numération à l'autre... "
   ]
  },
  {
   "cell_type": "markdown",
   "metadata": {},
   "source": [
    "### Les bases :\n",
    "\n",
    "#### Système décimal :\n",
    "\n",
    "C’est le système de numération que nous utilisons tous les jours. C’est un système de base $10$ car il utilise dix symboles différents :\n",
    "$$ 0, 1, 2, 3, 4, 5, 6, 7, 8, 9$$\n",
    "\n",
    "C’est un système positionnel car l’endroit où se trouve le symbole dans le nombre définit sa valeur. Le $2$ du nombre décimal $2356$ n’a pas la même valeur celui du nombre décimal $5623$ :\n",
    "\n",
    "$2356 \t= 2 \\times 10^3 + 3 \\times 10^2 + 5 \\times 10^1 + 6 \\times 10^0$ ici le $2$ vaut $2000$\n",
    "\n",
    "$5623 \t= 5 \\times 10^3 + 6 \\times 10^2 + 2 \\times 10^1 + 3 \\times 10^0$  ici le $2$ vaut $20$"
   ]
  },
  {
   "cell_type": "markdown",
   "metadata": {},
   "source": [
    "#### Système binaire :\n",
    "\n",
    "C’est le système de numération utilisé par les « machines numériques ». C’est un système de base $2$ car il utilise deux symboles différents :\n",
    "$$ 0,1$$\n",
    "\n",
    "Pour distinguer le nombre binaire 10110 du nombre décimal 10110 on indique le code ``0b`` (ou le symbole ``%``) avant le nombre ou l’indice $_2$ (ou $_b$) après le nombre.\n",
    "\n",
    "$10110_2 = 1 \\times 2^4 + 0 \\times 2^3 + 1 \\times 2^2 + 1 \\times 2^1 + 0 \\times 2^0 = 1 \\times 16 + 0 \\times 8 + 1 \\times 4 + 1 \\times 2 + 0 \\times 1 = 22$\n",
    "\n",
    "On appel bit (contraction de Binary digIT = BIT) chacun des chiffres d’un nombre binaire.\n",
    "\n",
    "Avec un bit on peut distinguer deux états d’une information avec les deux nombres soit $1$, soit $0$.\n",
    "\n",
    "Avec $2$ bits on peut en distinguer $4 = 2^2$ ;\n",
    "\n",
    "Avec $3$ bits on peut en distinguer $8 = 2^3$ ;\n",
    "\n",
    "Avec $8$ bits on peut en distinguer $256 = 2^8$ ;\n",
    "\n",
    "Avec n bits on peut former $2^n$ combinaisons (nombres) différentes.\n",
    "\n",
    "Une suite de quatre bits est un **quartet** , une suite de huit bits est **octet** ?\n",
    "\n",
    "Une suite de 16, 32, 64 bits est un **mot binaire**"
   ]
  },
  {
   "cell_type": "markdown",
   "metadata": {},
   "source": [
    "### Système hexadécimal.\n",
    "\n",
    "C’est un système de base $16$ qui utilise donc seize symboles différents :\n",
    "\n",
    "$$ 0, 1, 2, 3, 4, 5, 6, 7, 8, 9, \\mathrm{A, B, C, D, E, F}$$\n",
    "\n",
    "Pour distinguer un nombre hexadécimal on indique le code ``0x`` (ou le symbole ``$``) avant le nombre ou l’indice $_{16}$ (ou $_h$) après le nombre.\n",
    "\n",
    "Les lettres A, B, C, D, E, F, correspondent respectivement au nombre décimaux $10, 11, 12, 13, 14, 15$\n",
    "\n",
    "$AC53_{16} = 10 \\times 16^3 + 12 \\times 16^2 + 5 \\times 16^1 + 3 \\times 16^0$\n",
    "\n",
    "\n",
    "_On utilisera le système hexadécimal pour présenter de façon plus condensée un message binaire constitué d'une suite d'octect._\n"
   ]
  },
  {
   "cell_type": "markdown",
   "metadata": {},
   "source": [
    "### Correspondance entre nombres de différentes bases :\n",
    "\n",
    "<!-- \n",
    "<img src=\"https://ericecmorlaix.github.io/img/Stepper-Correspondance.svg\" alt=\"Tableau de correspondance entre bases\">\n",
    "\n",
    " -->\n",
    "<!--  \n",
    "|   **Décimal**   |   **Binaire**   | **Hexadécimal** |   **Décimal**   |   **Binaire**   | **Hexadécimal** |\n",
    "|:---------------:|:---------------:|:---------------:|:---------------:|:---------------:|:---------------:|\n",
    "|$0$              |$______$         |$____$           |      $8$        |$______$         |$____$           |\n",
    "|$1$              |$______$         |$____$           |      $9$        |$______$         |$____$           |\n",
    "|$2$              |$______$         |$____$           |      $10$       |$______$         |$____$           |\n",
    "|$3$              |$______$         |$____$           |      $11$       |$______$         |$____$           |\n",
    "|$4$              |$______$         |$____$           |      $12$       |$______$         |$____$           |\n",
    "|$5$              |$______$         |$____$           |      $13$       |$______$         |$____$           |\n",
    "|$6$              |$______$         |$____$           |      $14$       |$______$         |$____$           |\n",
    "|$7$              |$______$         |$____$           |      $15$       |$______$         |$____$           |\n",
    "\n",
    " -->\n",
    "<img src=\"https://ericecmorlaix.github.io/img/Stepper-Correspondance-Complet.svg\" alt=\"Tableau de correspondance entre bases\">\n"
   ]
  },
  {
   "cell_type": "markdown",
   "metadata": {},
   "source": [
    "### Changement de base :\n",
    "\n",
    "#### Conversion d’un nombre décimal en un nombre d’une autre base\n",
    "\n",
    "- Une méthode de conversion consiste à décomposer le nombre décimal en une somme de puissances de deux.\n",
    "\n",
    "> Par exemple, pour la conversion : $91$ = $01011011_2$\n",
    ">\n",
    "> On peut écrire :\n",
    ">$$91 \t= 0 \\times 2^7 + 1 \\times 2^6 + 0 \\times 2^5 + 1 \\times 2^4 + 1 \\times 2^3 + 0 \\times 2^2 + 1 \\times 2^1 + 1 \\times 2^0$$\n",
    ">\n",
    ">\n",
    ">$$91 = 64 + 16 + 8 + 2 + 1$$\n",
    ">\n",
    ">En rangeant les puissances de deux dans un tableau, on obtient :\n",
    ">\n",
    "><img src=\"https://ericecmorlaix.github.io/img/Stepper-ConversionBinaire1.svg\" alt=\"Mise en situation du mini-stepper\">\n",
    "\n",
    "\n",
    "- Une autre méthode de conversion consiste à diviser le nombre décimal à convertir par la base b et conserver le reste de la division. Le quotient obtenu est divisé par b et conserver le reste. Il faut répéter l’opération sur chaque quotient obtenu.\n",
    "> Par exemple, pour la conversion : $91$ = $01011011_2$\n",
    ">\n",
    "><img src=\"https://ericecmorlaix.github.io/img/Stepper-ConversionBinaire2.svg\" alt=\"Mise en situation du mini-stepper\">\n",
    ">\n",
    ">Les restes successifs sont écrits, en commençant par le dernier, de la gauche vers la droite. Cette méthode est dite « Méthode des divisions successives ».\n",
    "\n",
    "#### Conversion d’un nombre hexadécimal en binaire.\n",
    "\n",
    "Chaque symbole du nombre écrit dans le système hexadécimal est remplacé par son équivalent écrit dans le système binaire.\n",
    "\n",
    "Exemple : Convertir $ECA_{16}$ = ${1110_2\\over E_{16}}{1100_2\\over C_{16}}{1010_2\\over A_{16}}$ = $1110 1100 1010_2$ \n",
    "\n",
    "\n",
    "#### Conversion d’un nombre binaire en hexadécimal.\n",
    "\n",
    "C’est l’inverse de la précédente. Il faut donc regrouper les 1 et les 0 du nombre par 4 en commençant par la droite, puis chaque groupe est remplacé par le symbole hexadécimal correspondant.\n",
    "\n",
    "Exemple : Convertir $1100001101111_2$ = ${1_{16}\\over 0001_2}{8_{16}\\over 1000_2}{6_{16}\\over 0110_2}{F_{16}\\over 1111_2}$ = $186F_{16}$\n"
   ]
  },
  {
   "cell_type": "markdown",
   "metadata": {},
   "source": [
    "## Exercices :\n",
    "\n",
    "Convertir $9F2_{16}$ en binaire.\n",
    "\n",
    "Convertir $001111110101_2$ en hexadécimal.\n",
    "\n",
    "Convertir en décimal les nombres binaires suivants : $10110_2$ ; $10001101_2$ ; $1111010111_2$\n",
    "\n",
    "Convertir en binaire les nombres décimaux suivants : $37$ ; $189$ ; $205$ ; $2313$.\n",
    "\n",
    "Convertir en décimal les nombres hexadécimaux suivants : $92_{16}$ ; $2C0_{16}$ ; $37FD_{16}$.\n",
    "\n",
    "Convertir en hexadécimal les nombres décimaux suivants : 75 ; 314 ; 25619.\n",
    "\n",
    "Quelle est l’étendue des nombres définis en hexadécimal sur 6 chiffres ?\n",
    "\n",
    "Exécuter les opérations $10111101_2 + 101111_2$, $1BF_{16} + A23_{16}$\n",
    "\n",
    "Quel est le code ASCII en hexadécimal correspondant à la chaine de caractères `1SI` ?\n",
    "\n",
    "><img src=\"https://ericecmorlaix.github.io/img/1SI_ASCII.png\" alt=\"1SI_ASCII\">\n",
    "\n"
   ]
  },
  {
   "cell_type": "markdown",
   "metadata": {},
   "source": [
    "## Vérification avec Python :\n",
    "\n",
    "La fonction `bin()` permet de convertir un nombre en binaire :"
   ]
  },
  {
   "cell_type": "code",
   "execution_count": 3,
   "metadata": {
    "trusted": false
   },
   "outputs": [
    {
     "name": "stdout",
     "output_type": "stream",
     "text": [
      "Help on built-in function bin in module builtins:\n",
      "\n",
      "bin(number, /)\n",
      "    Return the binary representation of an integer.\n",
      "    \n",
      "    >>> bin(2796202)\n",
      "    '0b1010101010101010101010'\n",
      "\n"
     ]
    }
   ],
   "source": [
    "help(bin)"
   ]
  },
  {
   "cell_type": "code",
   "execution_count": 2,
   "metadata": {
    "trusted": false
   },
   "outputs": [
    {
     "data": {
      "text/plain": [
       "'0b1011011'"
      ]
     },
     "execution_count": 2,
     "metadata": {},
     "output_type": "execute_result"
    }
   ],
   "source": [
    "bin(91)"
   ]
  },
  {
   "cell_type": "code",
   "execution_count": 4,
   "metadata": {
    "trusted": false
   },
   "outputs": [
    {
     "data": {
      "text/plain": [
       "'0b1011011'"
      ]
     },
     "execution_count": 4,
     "metadata": {},
     "output_type": "execute_result"
    }
   ],
   "source": [
    "bin(0x5b)"
   ]
  },
  {
   "cell_type": "code",
   "execution_count": 5,
   "metadata": {
    "trusted": false
   },
   "outputs": [
    {
     "data": {
      "text/plain": [
       "'0b1011000000'"
      ]
     },
     "execution_count": 5,
     "metadata": {},
     "output_type": "execute_result"
    }
   ],
   "source": [
    "bin(0x2C0)"
   ]
  },
  {
   "cell_type": "code",
   "execution_count": 6,
   "metadata": {
    "trusted": false
   },
   "outputs": [
    {
     "data": {
      "text/plain": [
       "'0b11011111111101'"
      ]
     },
     "execution_count": 6,
     "metadata": {},
     "output_type": "execute_result"
    }
   ],
   "source": [
    "bin(0x37FD)"
   ]
  },
  {
   "cell_type": "code",
   "execution_count": 22,
   "metadata": {
    "trusted": false
   },
   "outputs": [
    {
     "data": {
      "text/plain": [
       "'0b1010'"
      ]
     },
     "execution_count": 22,
     "metadata": {},
     "output_type": "execute_result"
    }
   ],
   "source": [
    "bin(0xA)"
   ]
  },
  {
   "cell_type": "markdown",
   "metadata": {},
   "source": [
    "La fonction `hex()` permet de convertir un nombre en hexadécimal :"
   ]
  },
  {
   "cell_type": "code",
   "execution_count": 7,
   "metadata": {
    "trusted": false
   },
   "outputs": [
    {
     "data": {
      "text/plain": [
       "'0x5b'"
      ]
     },
     "execution_count": 7,
     "metadata": {},
     "output_type": "execute_result"
    }
   ],
   "source": [
    "hex(91)"
   ]
  },
  {
   "cell_type": "code",
   "execution_count": 8,
   "metadata": {
    "trusted": false
   },
   "outputs": [
    {
     "data": {
      "text/plain": [
       "'0x5b'"
      ]
     },
     "execution_count": 8,
     "metadata": {},
     "output_type": "execute_result"
    }
   ],
   "source": [
    "hex(0b1011011)"
   ]
  },
  {
   "cell_type": "code",
   "execution_count": 10,
   "metadata": {
    "trusted": false
   },
   "outputs": [
    {
     "data": {
      "text/plain": [
       "'0x2c0'"
      ]
     },
     "execution_count": 10,
     "metadata": {},
     "output_type": "execute_result"
    }
   ],
   "source": [
    "hex(704)"
   ]
  },
  {
   "cell_type": "code",
   "execution_count": 12,
   "metadata": {
    "trusted": false
   },
   "outputs": [
    {
     "data": {
      "text/plain": [
       "'0x37fd'"
      ]
     },
     "execution_count": 12,
     "metadata": {},
     "output_type": "execute_result"
    }
   ],
   "source": [
    "hex(14333)"
   ]
  },
  {
   "cell_type": "code",
   "execution_count": 18,
   "metadata": {
    "trusted": false
   },
   "outputs": [
    {
     "data": {
      "text/plain": [
       "'0x4b'"
      ]
     },
     "execution_count": 18,
     "metadata": {},
     "output_type": "execute_result"
    }
   ],
   "source": [
    "hex(75)"
   ]
  },
  {
   "cell_type": "code",
   "execution_count": 19,
   "metadata": {
    "trusted": false
   },
   "outputs": [
    {
     "data": {
      "text/plain": [
       "'0x13a'"
      ]
     },
     "execution_count": 19,
     "metadata": {},
     "output_type": "execute_result"
    }
   ],
   "source": [
    "hex(314)"
   ]
  },
  {
   "cell_type": "markdown",
   "metadata": {},
   "source": [
    "La fonction `int()` permet de convertir un nombre en décimal :"
   ]
  },
  {
   "cell_type": "code",
   "execution_count": 15,
   "metadata": {
    "trusted": false
   },
   "outputs": [
    {
     "data": {
      "text/plain": [
       "91"
      ]
     },
     "execution_count": 15,
     "metadata": {},
     "output_type": "execute_result"
    }
   ],
   "source": [
    "int(0b1011011)"
   ]
  },
  {
   "cell_type": "code",
   "execution_count": 16,
   "metadata": {
    "trusted": false
   },
   "outputs": [
    {
     "data": {
      "text/plain": [
       "91"
      ]
     },
     "execution_count": 16,
     "metadata": {},
     "output_type": "execute_result"
    }
   ],
   "source": [
    "int(0x5b)"
   ]
  },
  {
   "cell_type": "code",
   "execution_count": 23,
   "metadata": {
    "trusted": false
   },
   "outputs": [
    {
     "name": "stdout",
     "output_type": "stream",
     "text": [
      "0b0\n",
      "0b1\n",
      "0b10\n",
      "0b11\n",
      "0b100\n",
      "0b101\n",
      "0b110\n",
      "0b111\n",
      "0b1000\n",
      "0b1001\n",
      "0b1010\n",
      "0b1011\n",
      "0b1100\n",
      "0b1101\n",
      "0b1110\n",
      "0b1111\n",
      "0b10000\n",
      "0b10001\n",
      "0b10010\n",
      "0b10011\n",
      "0b10100\n",
      "0b10101\n",
      "0b10110\n",
      "0b10111\n",
      "0b11000\n",
      "0b11001\n",
      "0b11010\n",
      "0b11011\n",
      "0b11100\n",
      "0b11101\n",
      "0b11110\n",
      "0b11111\n",
      "0b100000\n",
      "0b100001\n",
      "0b100010\n",
      "0b100011\n",
      "0b100100\n",
      "0b100101\n",
      "0b100110\n",
      "0b100111\n",
      "0b101000\n",
      "0b101001\n",
      "0b101010\n",
      "0b101011\n",
      "0b101100\n",
      "0b101101\n",
      "0b101110\n",
      "0b101111\n",
      "0b110000\n",
      "0b110001\n",
      "0b110010\n",
      "0b110011\n",
      "0b110100\n",
      "0b110101\n",
      "0b110110\n",
      "0b110111\n",
      "0b111000\n",
      "0b111001\n",
      "0b111010\n",
      "0b111011\n",
      "0b111100\n",
      "0b111101\n",
      "0b111110\n",
      "0b111111\n",
      "0b1000000\n",
      "0b1000001\n",
      "0b1000010\n",
      "0b1000011\n",
      "0b1000100\n",
      "0b1000101\n",
      "0b1000110\n",
      "0b1000111\n",
      "0b1001000\n",
      "0b1001001\n",
      "0b1001010\n",
      "0b1001011\n",
      "0b1001100\n",
      "0b1001101\n",
      "0b1001110\n",
      "0b1001111\n",
      "0b1010000\n",
      "0b1010001\n",
      "0b1010010\n",
      "0b1010011\n",
      "0b1010100\n",
      "0b1010101\n",
      "0b1010110\n",
      "0b1010111\n",
      "0b1011000\n",
      "0b1011001\n",
      "0b1011010\n",
      "0b1011011\n",
      "0b1011100\n",
      "0b1011101\n",
      "0b1011110\n",
      "0b1011111\n",
      "0b1100000\n",
      "0b1100001\n",
      "0b1100010\n",
      "0b1100011\n",
      "0b1100100\n",
      "0b1100101\n",
      "0b1100110\n",
      "0b1100111\n",
      "0b1101000\n",
      "0b1101001\n",
      "0b1101010\n",
      "0b1101011\n",
      "0b1101100\n",
      "0b1101101\n",
      "0b1101110\n",
      "0b1101111\n",
      "0b1110000\n",
      "0b1110001\n",
      "0b1110010\n",
      "0b1110011\n",
      "0b1110100\n",
      "0b1110101\n",
      "0b1110110\n",
      "0b1110111\n",
      "0b1111000\n",
      "0b1111001\n",
      "0b1111010\n",
      "0b1111011\n",
      "0b1111100\n",
      "0b1111101\n",
      "0b1111110\n",
      "0b1111111\n",
      "0b10000000\n",
      "0b10000001\n",
      "0b10000010\n",
      "0b10000011\n",
      "0b10000100\n",
      "0b10000101\n",
      "0b10000110\n",
      "0b10000111\n",
      "0b10001000\n",
      "0b10001001\n",
      "0b10001010\n",
      "0b10001011\n",
      "0b10001100\n",
      "0b10001101\n",
      "0b10001110\n",
      "0b10001111\n",
      "0b10010000\n",
      "0b10010001\n",
      "0b10010010\n",
      "0b10010011\n",
      "0b10010100\n",
      "0b10010101\n",
      "0b10010110\n",
      "0b10010111\n",
      "0b10011000\n",
      "0b10011001\n",
      "0b10011010\n",
      "0b10011011\n",
      "0b10011100\n",
      "0b10011101\n",
      "0b10011110\n",
      "0b10011111\n",
      "0b10100000\n",
      "0b10100001\n",
      "0b10100010\n",
      "0b10100011\n",
      "0b10100100\n",
      "0b10100101\n",
      "0b10100110\n",
      "0b10100111\n",
      "0b10101000\n",
      "0b10101001\n",
      "0b10101010\n",
      "0b10101011\n",
      "0b10101100\n",
      "0b10101101\n",
      "0b10101110\n",
      "0b10101111\n",
      "0b10110000\n",
      "0b10110001\n",
      "0b10110010\n",
      "0b10110011\n",
      "0b10110100\n",
      "0b10110101\n",
      "0b10110110\n",
      "0b10110111\n",
      "0b10111000\n",
      "0b10111001\n",
      "0b10111010\n",
      "0b10111011\n",
      "0b10111100\n",
      "0b10111101\n",
      "0b10111110\n",
      "0b10111111\n",
      "0b11000000\n",
      "0b11000001\n",
      "0b11000010\n",
      "0b11000011\n",
      "0b11000100\n",
      "0b11000101\n",
      "0b11000110\n",
      "0b11000111\n",
      "0b11001000\n",
      "0b11001001\n",
      "0b11001010\n",
      "0b11001011\n",
      "0b11001100\n",
      "0b11001101\n",
      "0b11001110\n",
      "0b11001111\n",
      "0b11010000\n",
      "0b11010001\n",
      "0b11010010\n",
      "0b11010011\n",
      "0b11010100\n",
      "0b11010101\n",
      "0b11010110\n",
      "0b11010111\n",
      "0b11011000\n",
      "0b11011001\n",
      "0b11011010\n",
      "0b11011011\n",
      "0b11011100\n",
      "0b11011101\n",
      "0b11011110\n",
      "0b11011111\n",
      "0b11100000\n",
      "0b11100001\n",
      "0b11100010\n",
      "0b11100011\n",
      "0b11100100\n",
      "0b11100101\n",
      "0b11100110\n",
      "0b11100111\n",
      "0b11101000\n",
      "0b11101001\n",
      "0b11101010\n",
      "0b11101011\n",
      "0b11101100\n",
      "0b11101101\n",
      "0b11101110\n",
      "0b11101111\n",
      "0b11110000\n",
      "0b11110001\n",
      "0b11110010\n",
      "0b11110011\n",
      "0b11110100\n",
      "0b11110101\n",
      "0b11110110\n",
      "0b11110111\n",
      "0b11111000\n",
      "0b11111001\n",
      "0b11111010\n",
      "0b11111011\n",
      "0b11111100\n",
      "0b11111101\n",
      "0b11111110\n",
      "0b11111111\n"
     ]
    }
   ],
   "source": [
    "for nombre in range(256):\n",
    "    print(bin(nombre))"
   ]
  },
  {
   "cell_type": "code",
   "execution_count": 29,
   "metadata": {
    "trusted": false
   },
   "outputs": [
    {
     "name": "stdout",
     "output_type": "stream",
     "text": [
      "0b101011\n",
      "0b101101\n",
      "0b101111\n",
      "0b110001\n",
      "0b110011\n",
      "0b110101\n",
      "0b110111\n",
      "0b111001\n",
      "0b111011\n",
      "0b111101\n",
      "0b111111\n",
      "0b1000001\n",
      "0b1000011\n",
      "0b1000101\n",
      "0b1000111\n",
      "0b1001001\n",
      "0b1001011\n",
      "0b1001101\n",
      "0b1001111\n",
      "0b1010001\n",
      "0b1010011\n",
      "0b1010101\n",
      "0b1010111\n",
      "0b1011001\n",
      "0b1011011\n",
      "0b1011101\n",
      "0b1011111\n",
      "0b1100001\n",
      "0b1100011\n",
      "0b1100101\n",
      "0b1100111\n",
      "0b1101001\n",
      "0b1101011\n",
      "0b1101101\n",
      "0b1101111\n",
      "0b1110001\n",
      "0b1110011\n",
      "0b1110101\n",
      "0b1110111\n",
      "0b1111001\n",
      "0b1111011\n",
      "0b1111101\n",
      "0b1111111\n",
      "0b10000001\n",
      "0b10000011\n",
      "0b10000101\n",
      "0b10000111\n",
      "0b10001001\n",
      "0b10001011\n",
      "0b10001101\n",
      "0b10001111\n",
      "0b10010001\n",
      "0b10010011\n",
      "0b10010101\n",
      "0b10010111\n",
      "0b10011001\n",
      "0b10011011\n",
      "0b10011101\n",
      "0b10011111\n",
      "0b10100001\n",
      "0b10100011\n",
      "0b10100101\n",
      "0b10100111\n",
      "0b10101001\n",
      "0b10101011\n",
      "0b10101101\n",
      "0b10101111\n",
      "0b10110001\n",
      "0b10110011\n",
      "0b10110101\n",
      "0b10110111\n",
      "0b10111001\n",
      "0b10111011\n",
      "0b10111101\n",
      "0b10111111\n",
      "0b11000001\n",
      "0b11000011\n",
      "0b11000101\n",
      "0b11000111\n",
      "0b11001001\n",
      "0b11001011\n",
      "0b11001101\n",
      "0b11001111\n",
      "0b11010001\n",
      "0b11010011\n",
      "0b11010101\n",
      "0b11010111\n",
      "0b11011001\n",
      "0b11011011\n",
      "0b11011101\n",
      "0b11011111\n",
      "0b11100001\n",
      "0b11100011\n",
      "0b11100101\n",
      "0b11100111\n",
      "0b11101001\n",
      "0b11101011\n",
      "0b11101101\n",
      "0b11101111\n",
      "0b11110001\n",
      "0b11110011\n",
      "0b11110101\n",
      "0b11110111\n",
      "0b11111001\n",
      "0b11111011\n",
      "0b11111101\n",
      "0b11111111\n"
     ]
    }
   ],
   "source": [
    "for nombre in range(43,256,2):\n",
    "    print(bin(nombre))"
   ]
  },
  {
   "cell_type": "code",
   "execution_count": 26,
   "metadata": {
    "trusted": false
   },
   "outputs": [
    {
     "name": "stdout",
     "output_type": "stream",
     "text": [
      "0\n",
      "1\n",
      "2\n",
      "3\n",
      "4\n",
      "5\n",
      "6\n",
      "7\n",
      "8\n",
      "9\n",
      "10\n",
      "11\n",
      "12\n",
      "13\n",
      "14\n",
      "15\n"
     ]
    }
   ],
   "source": [
    "for nombre in range(0b10000):\n",
    "    print(int(nombre))"
   ]
  },
  {
   "cell_type": "code",
   "execution_count": 33,
   "metadata": {
    "trusted": false
   },
   "outputs": [
    {
     "name": "stdout",
     "output_type": "stream",
     "text": [
      "256\n",
      "272\n",
      "288\n",
      "304\n",
      "320\n",
      "336\n",
      "352\n",
      "368\n",
      "384\n",
      "400\n",
      "416\n",
      "432\n",
      "448\n",
      "464\n",
      "480\n",
      "496\n",
      "512\n",
      "528\n",
      "544\n",
      "560\n",
      "576\n",
      "592\n",
      "608\n",
      "624\n",
      "640\n",
      "656\n",
      "672\n",
      "688\n",
      "704\n",
      "720\n",
      "736\n",
      "752\n",
      "768\n",
      "784\n",
      "800\n",
      "816\n",
      "832\n",
      "848\n",
      "864\n",
      "880\n",
      "896\n",
      "912\n",
      "928\n",
      "944\n",
      "960\n",
      "976\n",
      "992\n",
      "1008\n",
      "1024\n",
      "1040\n",
      "1056\n",
      "1072\n",
      "1088\n",
      "1104\n",
      "1120\n",
      "1136\n",
      "1152\n",
      "1168\n",
      "1184\n",
      "1200\n",
      "1216\n",
      "1232\n",
      "1248\n",
      "1264\n",
      "1280\n",
      "1296\n",
      "1312\n",
      "1328\n",
      "1344\n",
      "1360\n",
      "1376\n",
      "1392\n",
      "1408\n",
      "1424\n",
      "1440\n",
      "1456\n",
      "1472\n",
      "1488\n",
      "1504\n",
      "1520\n",
      "1536\n",
      "1552\n",
      "1568\n",
      "1584\n",
      "1600\n",
      "1616\n",
      "1632\n",
      "1648\n",
      "1664\n",
      "1680\n",
      "1696\n",
      "1712\n",
      "1728\n",
      "1744\n",
      "1760\n",
      "1776\n",
      "1792\n",
      "1808\n",
      "1824\n",
      "1840\n",
      "1856\n",
      "1872\n",
      "1888\n",
      "1904\n",
      "1920\n",
      "1936\n",
      "1952\n",
      "1968\n",
      "1984\n",
      "2000\n",
      "2016\n",
      "2032\n",
      "2048\n",
      "2064\n",
      "2080\n",
      "2096\n",
      "2112\n",
      "2128\n",
      "2144\n",
      "2160\n",
      "2176\n",
      "2192\n",
      "2208\n",
      "2224\n",
      "2240\n",
      "2256\n",
      "2272\n",
      "2288\n",
      "2304\n",
      "2320\n",
      "2336\n",
      "2352\n",
      "2368\n",
      "2384\n",
      "2400\n",
      "2416\n",
      "2432\n",
      "2448\n",
      "2464\n",
      "2480\n",
      "2496\n",
      "2512\n",
      "2528\n",
      "2544\n",
      "2560\n",
      "2576\n",
      "2592\n",
      "2608\n",
      "2624\n",
      "2640\n",
      "2656\n",
      "2672\n",
      "2688\n",
      "2704\n",
      "2720\n",
      "2736\n",
      "2752\n",
      "2768\n",
      "2784\n",
      "2800\n",
      "2816\n",
      "2832\n",
      "2848\n",
      "2864\n",
      "2880\n",
      "2896\n",
      "2912\n",
      "2928\n",
      "2944\n",
      "2960\n",
      "2976\n",
      "2992\n",
      "3008\n",
      "3024\n",
      "3040\n",
      "3056\n",
      "3072\n",
      "3088\n",
      "3104\n",
      "3120\n",
      "3136\n",
      "3152\n",
      "3168\n",
      "3184\n",
      "3200\n",
      "3216\n",
      "3232\n",
      "3248\n",
      "3264\n",
      "3280\n",
      "3296\n",
      "3312\n",
      "3328\n",
      "3344\n",
      "3360\n",
      "3376\n",
      "3392\n",
      "3408\n",
      "3424\n",
      "3440\n",
      "3456\n",
      "3472\n",
      "3488\n",
      "3504\n",
      "3520\n",
      "3536\n",
      "3552\n",
      "3568\n",
      "3584\n",
      "3600\n",
      "3616\n",
      "3632\n",
      "3648\n",
      "3664\n",
      "3680\n",
      "3696\n",
      "3712\n",
      "3728\n",
      "3744\n",
      "3760\n",
      "3776\n",
      "3792\n",
      "3808\n",
      "3824\n",
      "3840\n",
      "3856\n",
      "3872\n",
      "3888\n",
      "3904\n",
      "3920\n",
      "3936\n",
      "3952\n",
      "3968\n",
      "3984\n",
      "4000\n",
      "4016\n",
      "4032\n",
      "4048\n",
      "4064\n",
      "4080\n"
     ]
    }
   ],
   "source": [
    "for nombre in range(0x100,0x1000,0x10):\n",
    "    print(int(nombre))"
   ]
  },
  {
   "cell_type": "markdown",
   "metadata": {},
   "source": [
    "## Références au programme :\n",
    "\n",
    "<style type=\"text/css\">\n",
    ".tg  {border-collapse:collapse;border-spacing:0;}\n",
    ".tg td{font-family:Arial, sans-serif;font-size:14px;padding:10px 5px;border-style:solid;border-width:1px;overflow:hidden;word-break:normal;border-color:black;}\n",
    ".tg th{font-family:Arial, sans-serif;font-size:14px;font-weight:normal;padding:10px 5px;border-style:solid;border-width:1px;overflow:hidden;word-break:normal;border-color:black;}\n",
    ".tg .tg-cv16{font-weight:bold;background-color:#dae8fc;border-color:inherit;text-align:center}\n",
    ".tg .tg-xldj{border-color:inherit;text-align:left}\n",
    "</style>\n",
    "<table class=\"tg\">\n",
    "  <tr>\n",
    "    <th class=\"tg-cv16\">Compétences développées</th>\n",
    "    <th class=\"tg-cv16\">Connaissances associées</th>    \n",
    "  </tr>\n",
    "  <tr>\n",
    "    <td class=\"tg-xldj\">Caractériser les échanges d’informations</td>\n",
    "    <td class=\"tg-xldj\">Natures et caractéristiques des signaux, des\n",
    "données, des supports de communication...</td>    \n",
    "  </tr>\n",
    "</table>"
   ]
  },
  {
   "cell_type": "markdown",
   "metadata": {
    "slideshow": {
     "slide_type": "-"
    }
   },
   "source": [
    "<a rel=\"license\" href=\"http://creativecommons.org/licenses/by-sa/4.0/\"><img alt=\"Licence Creative Commons\" style=\"border-width:0\" src=\"https://i.creativecommons.org/l/by-sa/4.0/88x31.png\" /></a><br />Ce document est mis à disposition selon les termes de la <a rel=\"license\" href=\"http://creativecommons.org/licenses/by-sa/4.0/\">Licence Creative Commons Attribution -  Partage dans les Mêmes Conditions 4.0 International</a>.\n",
    "\n",
    "Pour toute question, suggestion ou commentaire : <a href=\"mailto:eric.madec@ecmorlaix.fr\">eric.madec@ecmorlaix.fr</a>"
   ]
  }
 ],
 "metadata": {
  "hide_input": false,
  "kernelspec": {
   "display_name": "Python 3",
   "language": "python",
   "name": "python3"
  },
  "language_info": {
   "codemirror_mode": {
    "name": "ipython",
    "version": 3
   },
   "file_extension": ".py",
   "mimetype": "text/x-python",
   "name": "python",
   "nbconvert_exporter": "python",
   "pygments_lexer": "ipython3",
   "version": "3.10.1"
  },
  "toc": {
   "base_numbering": 1,
   "nav_menu": {},
   "number_sections": true,
   "sideBar": true,
   "skip_h1_title": false,
   "title_cell": "Table of Contents",
   "title_sidebar": "Contents",
   "toc_cell": false,
   "toc_position": {},
   "toc_section_display": true,
   "toc_window_display": false
  },
  "varInspector": {
   "cols": {
    "lenName": 16,
    "lenType": 16,
    "lenVar": 40
   },
   "kernels_config": {
    "python": {
     "delete_cmd_postfix": "",
     "delete_cmd_prefix": "del ",
     "library": "var_list.py",
     "varRefreshCmd": "print(var_dic_list())"
    },
    "r": {
     "delete_cmd_postfix": ") ",
     "delete_cmd_prefix": "rm(",
     "library": "var_list.r",
     "varRefreshCmd": "cat(var_dic_list()) "
    }
   },
   "types_to_exclude": [
    "module",
    "function",
    "builtin_function_or_method",
    "instance",
    "_Feature"
   ],
   "window_display": false
  }
 },
 "nbformat": 4,
 "nbformat_minor": 2
}
